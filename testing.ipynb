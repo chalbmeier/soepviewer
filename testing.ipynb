{
 "cells": [
  {
   "cell_type": "code",
   "execution_count": 1,
   "metadata": {},
   "outputs": [
    {
     "data": {
      "text/plain": [
       "<soepversionizer.soepversionizer.Versionizer at 0x1df8286e750>"
      ]
     },
     "execution_count": 1,
     "metadata": {},
     "output_type": "execute_result"
    }
   ],
   "source": [
    "from soepversionizer import Versionizer\n",
    "Versionizer()"
   ]
  },
  {
   "cell_type": "code",
   "execution_count": null,
   "metadata": {},
   "outputs": [
    {
     "name": "stdout",
     "output_type": "stream",
     "text": [
      "dokurepos: ['C:/Users/chh/Work/02_git/Dokumentation/', 'C:/Users/chh/Work/02_git/soep-lee2-compare/']\n"
     ]
    },
    {
     "data": {
      "text/plain": [
       "<soepversionizer.soepversionizer.Versionizer at 0x1e3994fe310>"
      ]
     },
     "execution_count": 1,
     "metadata": {},
     "output_type": "execute_result"
    }
   ],
   "source": [
    "import soepdoku as soep\n",
    "from os.path import join\n",
    "from soepversionizer import Versionizer\n",
    "\n",
    "path1 = \"C:/Users/chh/Work/02_git/Dokumentation/\"  # path to SOEP-Core documentation\n",
    "path2 = \"C:/Users/chh/Work/02_git/soep-lee2-compare/\" # path to SOEP-LEE2-Compare documentation\n",
    "version = ['v39']\n",
    "\n",
    "#questionnaire_files = [\n",
    "#    join(path1, 'questionnaires/soep-core-2020-pe/questions.csv'),\n",
    "#    join(path1, 'questionnaires/soep-core-2021-pe/questions.csv'),\n",
    "#    join(path1, 'questionnaires/soep-core-2022-pe/questions.csv')\n",
    "#]\n",
    "\n",
    "\n",
    "\n",
    "questionnaire_files = [\n",
    "    join(path1, 'questionnaires/soep-core-2021-lee2estab/questions.csv'),                           # SOEP-Betriebe, questionnaires\n",
    "    join(path1, 'questionnaires/soep-core-2023-lee2estab/questions.csv'),\n",
    "    join(path1, 'questionnaires/soep-core-2020-selfempl/questions.csv'),                            # SOEP-Selbstständinge, questionnaires\n",
    "    join(path1, 'questionnaires/soep-core-2022-selfempl/questions.csv'),\n",
    "    join(path1, 'questionnaires/soep-core-2024-selfempl/questions.csv'),\n",
    "    join(path2, 'questionnaires/soep-lee2-compare-2022-estab/questions.csv'),                       # IAB-Betriebe, questionnaires\n",
    "    join(path2, 'questionnaires/soep-lee2-compare-2023-estab/questions.csv'),\n",
    "    join(path2, 'questionnaires/soep-lee2-compare-2024-estab/questions.csv'),\n",
    "]\n",
    "\n",
    "\n",
    "doku_repos = [path1, path2] # doku_repos\n",
    "#database = Database(paths = questionnaire_files, doku_repos=doku_repos, version=version)\n",
    "#database.build()\n",
    "#database.merge_quest_log_gen()\n",
    "\n",
    "Versionizer(\n",
    "    questionnaire_files=questionnaire_files, \n",
    "    doku_repos=doku_repos, \n",
    "    build_db_at_start=True,\n",
    ")"
   ]
  },
  {
   "cell_type": "code",
   "execution_count": 13,
   "metadata": {},
   "outputs": [
    {
     "name": "stdout",
     "output_type": "stream",
     "text": [
      "{'versions': {'versions': ['v39']}, 'dokurepos': {'path1': 'C:/Users/chh/Work/02_git/Dokumentation/', 'path2': 'C:/Users/chh/Work/02_git/soep-lee2-compare/'}, 'questionnaires': {'path1': {'files': ['questionnaires/soep-core-2021-lee2estab/questions.csv', 'questionnaires/soep-core-2023-lee2estab/questions.csv', 'questionnaires/soep-core-2020-selfempl/questions.csv', 'questionnaires/soep-core-2022-selfempl/questions.csv', 'questionnaires/soep-core-2024-selfempl/questions.csv']}, 'path2': {'files': ['questionnaires/soep-lee2-compare-2022-estab/questions.csv', 'questionnaires/soep-lee2-compare-2023-estab/questions.csv', 'questionnaires/soep-lee2-compare-2024-estab/questions.csv']}}}\n"
     ]
    }
   ],
   "source": [
    "\n",
    "\n",
    "\n"
   ]
  },
  {
   "cell_type": "code",
   "execution_count": 2,
   "metadata": {},
   "outputs": [],
   "source": [
    "import tkinter as tk\n",
    "from tkinter import Toplevel, Label\n",
    "import asyncio\n",
    "\n",
    "def show_popup():\n",
    "    \"\"\"Display a loading message in a Toplevel window\"\"\"\n",
    "    global popup\n",
    "    popup = Toplevel(root)\n",
    "    popup.title(\"Processing\")\n",
    "    Label(popup, text=\"Calculating, please wait...\").pack(padx=20, pady=20)\n",
    "    popup.geometry(\"250x100\")\n",
    "    popup.transient(root)  # Keep popup on top\n",
    "    popup.grab_set()  # Make it modal\n",
    "\n",
    "async def long_calculation():\n",
    "    \"\"\"Simulate a long-running calculation asynchronously\"\"\"\n",
    "    await asyncio.sleep(5)  # Simulate computation time\n",
    "    root.after(0, close_popup)  # Close the popup once done\n",
    "\n",
    "def close_popup():\n",
    "    \"\"\"Close the popup window\"\"\"\n",
    "    popup.destroy()\n",
    "\n",
    "def start_process():\n",
    "    \"\"\"Trigger the popup and start the long-running function asynchronously\"\"\"\n",
    "    show_popup()\n",
    "    asyncio.create_task(long_calculation())  # Start async task\n",
    "\n",
    "def run_asyncio_loop():\n",
    "    \"\"\"Runs the asyncio event loop periodically\"\"\"\n",
    "    try:\n",
    "        asyncio.get_running_loop()\n",
    "    except RuntimeError:\n",
    "        loop = asyncio.new_event_loop()\n",
    "        asyncio.set_event_loop(loop)\n",
    "\n",
    "    root.after(100, run_asyncio_loop)  # Re-run the loop every 100ms\n",
    "\n",
    "root = tk.Tk()\n",
    "tk.Button(root, text=\"Start Calculation\", command=start_process).pack(pady=20)\n",
    "\n",
    "# Start the asyncio loop within Tkinter's event loop\n",
    "run_asyncio_loop()\n",
    "\n",
    "root.mainloop()\n"
   ]
  },
  {
   "cell_type": "code",
   "execution_count": 19,
   "metadata": {},
   "outputs": [
    {
     "name": "stdout",
     "output_type": "stream",
     "text": [
      "C:\\Users\\chh\\AppData\\Local\\chtree\\soepviewer\n"
     ]
    }
   ],
   "source": [
    "import platformdirs\n",
    "\n",
    "appname = \"soepviewer\"\n",
    "appauthor = \"c\"\n",
    "\n",
    "print(platformdirs.user_config_dir(appname, appauthor))"
   ]
  },
  {
   "cell_type": "code",
   "execution_count": 20,
   "metadata": {},
   "outputs": [
    {
     "name": "stdout",
     "output_type": "stream",
     "text": [
      "['bin', 'int', 'cat', 'chr']\n"
     ]
    }
   ],
   "source": [
    "from soepdoku.const import DATA_SCALES\n",
    "\n",
    "print(DATA_SCALES)"
   ]
  },
  {
   "cell_type": "code",
   "execution_count": 1,
   "metadata": {},
   "outputs": [],
   "source": [
    "import tkinter as tk\n",
    "from tkinter import ttk\n",
    "\n",
    "# Function to display the selected relief style\n",
    "def display_selected():\n",
    "    selected_label.config(text=f\"Selected: {selected_relief.get()}\")\n",
    "\n",
    "# Create the main window\n",
    "root = tk.Tk()\n",
    "\n",
    "root.title(\"Radiobuttons with Relief Styles\")\n",
    "root.geometry(f\"{1920}x{1200}\")\n",
    "\n",
    "# Available relief styles in tkinter\n",
    "relief_styles = [\"flat\", \"raised\", \"sunken\", \"groove\", \"ridge\"]\n",
    "\n",
    "# Variable to store the selected relief style\n",
    "selected_relief = tk.StringVar(value=relief_styles[0])\n",
    "\n",
    "# Frame to hold the radiobuttons\n",
    "radio_frame = ttk.LabelFrame(root, text=\"Choose a Relief Style\", padding=10)\n",
    "radio_frame.pack(padx=10, pady=10, fill=\"both\", expand=True)\n",
    "\n",
    "# Create and display a radiobutton for each relief style\n",
    "for style in relief_styles:\n",
    "    rb = tk.Radiobutton(\n",
    "        radio_frame, \n",
    "        text=style.capitalize(), \n",
    "        value=style, \n",
    "        variable=selected_relief, \n",
    "        command=display_selected,\n",
    "        indicatoron=False,\n",
    "        offrelief='flat', \n",
    "        overrelief=style,\n",
    "    )\n",
    "    rb.pack(anchor=\"w\", pady=2)\n",
    "\n",
    "# Label to display the selected relief style\n",
    "selected_label = ttk.Label(root, text=f\"Selected: {selected_relief.get()}\", font=(\"Arial\", 12))\n",
    "selected_label.pack(pady=10)\n",
    "\n",
    "# Start the tkinter main loop\n",
    "root.mainloop()\n"
   ]
  },
  {
   "cell_type": "code",
   "execution_count": 23,
   "metadata": {},
   "outputs": [],
   "source": [
    "import tkinter as tk\n",
    "\n",
    "def resize_canvas(event, canvas):\n",
    "    \"\"\"Resizes the canvas when the parent frame resizes.\"\"\"\n",
    "    canvas.config(width=event.width, height=event.height)\n",
    "\n",
    "root = tk.Tk()\n",
    "root.geometry(\"400x300\")  # Initial window size\n",
    "\n",
    "# Fixed row at the top\n",
    "fixed_row = tk.Frame(root, bg=\"red\", height=50)\n",
    "fixed_row.grid(row=0, column=0, sticky=\"nsew\")\n",
    "\n",
    "# First flexible canvas (twice as high as the second)\n",
    "canvas1 = tk.Canvas(root, bg=\"blue\")\n",
    "canvas1.grid(row=1, column=0, sticky=\"nsew\")\n",
    "frame1 = tk.Frame(canvas1)\n",
    "label1 = tk.Label(frame1, text=\"Hello\")\n",
    "\n",
    "# Second flexible canvas (half the height of the first)\n",
    "canvas2 = tk.Canvas(root, bg=\"green\")\n",
    "canvas2.grid(row=2, column=0, sticky=\"nsew\")\n",
    "frame2 = tk.Frame(canvas2)\n",
    "label2 = tk.Label(frame2, text=\"Hello again\")\n",
    "\n",
    "# Configure grid behavior\n",
    "root.grid_rowconfigure(0, minsize=50, weight=0)  # Fixed row\n",
    "root.grid_rowconfigure(1, weight=2)  # First canvas gets twice the space\n",
    "root.grid_rowconfigure(2, weight=1)  # Second canvas gets half the space\n",
    "root.grid_columnconfigure(0, weight=1)  # Allow column expansion\n",
    "\n",
    "# Bind resize events to update canvas sizes\n",
    "canvas1.bind(\"<Configure>\", lambda e: resize_canvas(e, canvas1))\n",
    "canvas2.bind(\"<Configure>\", lambda e: resize_canvas(e, canvas2))\n",
    "\n",
    "root.mainloop()"
   ]
  },
  {
   "cell_type": "code",
   "execution_count": 16,
   "metadata": {},
   "outputs": [
    {
     "name": "stdout",
     "output_type": "stream",
     "text": [
      "7\n",
      "12\n"
     ]
    }
   ],
   "source": [
    "class class1():\n",
    "\n",
    "    def __init__(self, a):\n",
    "        self.a = a\n",
    "\n",
    "    def calculate(self):\n",
    "        pass\n",
    "\n",
    "    def update(self):\n",
    "        self.calculate()\n",
    "\n",
    "\n",
    "class class2(class1):\n",
    "\n",
    "    def __init__(self, a):\n",
    "        super().__init__(a=a)\n",
    "\n",
    "    def calculate(self):\n",
    "        self.a = self.a+5\n",
    "\n",
    "\n",
    "class class3(class1):\n",
    "\n",
    "    def __init__(self, a):\n",
    "        super().__init__(a=a)\n",
    "\n",
    "    def calculate(self):\n",
    "        self.a = self.a+10\n",
    "\n",
    "o1 = class2(a=2)\n",
    "o1.update()\n",
    "print(o1.a)\n",
    "\n",
    "o2 = class3(a=2)\n",
    "o2.update()\n",
    "print(o2.a)\n"
   ]
  },
  {
   "cell_type": "code",
   "execution_count": 1,
   "metadata": {},
   "outputs": [
    {
     "ename": "NameError",
     "evalue": "name 'soep' is not defined",
     "output_type": "error",
     "traceback": [
      "\u001b[1;31m---------------------------------------------------------------------------\u001b[0m",
      "\u001b[1;31mNameError\u001b[0m                                 Traceback (most recent call last)",
      "\u001b[1;32m~\\AppData\\Local\\Temp\\ipykernel_23420\\511471109.py\u001b[0m in \u001b[0;36m<module>\u001b[1;34m\u001b[0m\n\u001b[1;32m----> 1\u001b[1;33m \u001b[0mquestions\u001b[0m \u001b[1;33m=\u001b[0m \u001b[0msoep\u001b[0m\u001b[1;33m.\u001b[0m\u001b[0mread_csv\u001b[0m\u001b[1;33m(\u001b[0m\u001b[0mjoin\u001b[0m\u001b[1;33m(\u001b[0m\u001b[0mpath1\u001b[0m\u001b[1;33m,\u001b[0m \u001b[1;34m'questionnaires/soep-core-2021-lee2estab/questions.csv'\u001b[0m\u001b[1;33m)\u001b[0m\u001b[1;33m)\u001b[0m\u001b[1;33m\u001b[0m\u001b[1;33m\u001b[0m\u001b[0m\n\u001b[0m\u001b[0;32m      2\u001b[0m \u001b[1;33m\u001b[0m\u001b[0m\n\u001b[0;32m      3\u001b[0m \u001b[0mgroups\u001b[0m \u001b[1;33m=\u001b[0m \u001b[0mquestions\u001b[0m\u001b[1;33m.\u001b[0m\u001b[0mgroupby\u001b[0m\u001b[1;33m(\u001b[0m\u001b[1;33m[\u001b[0m\u001b[1;34m'study'\u001b[0m\u001b[1;33m,\u001b[0m \u001b[1;34m'questionnaire'\u001b[0m\u001b[1;33m,\u001b[0m \u001b[1;34m'question'\u001b[0m\u001b[1;33m]\u001b[0m\u001b[1;33m)\u001b[0m\u001b[1;33m.\u001b[0m\u001b[0msize\u001b[0m\u001b[1;33m(\u001b[0m\u001b[1;33m)\u001b[0m\u001b[1;33m.\u001b[0m\u001b[0mreset_index\u001b[0m\u001b[1;33m(\u001b[0m\u001b[1;33m)\u001b[0m\u001b[1;33m[\u001b[0m\u001b[1;33m[\u001b[0m\u001b[1;34m'study'\u001b[0m\u001b[1;33m,\u001b[0m \u001b[1;34m'questionnaire'\u001b[0m\u001b[1;33m,\u001b[0m \u001b[1;34m'question'\u001b[0m\u001b[1;33m]\u001b[0m\u001b[1;33m]\u001b[0m\u001b[1;33m\u001b[0m\u001b[1;33m\u001b[0m\u001b[0m\n\u001b[0;32m      4\u001b[0m \u001b[0mprint\u001b[0m\u001b[1;33m(\u001b[0m\u001b[0mtype\u001b[0m\u001b[1;33m(\u001b[0m\u001b[0mgroups\u001b[0m\u001b[1;33m)\u001b[0m\u001b[1;33m)\u001b[0m\u001b[1;33m\u001b[0m\u001b[1;33m\u001b[0m\u001b[0m\n\u001b[0;32m      5\u001b[0m \u001b[1;33m\u001b[0m\u001b[0m\n",
      "\u001b[1;31mNameError\u001b[0m: name 'soep' is not defined"
     ]
    }
   ],
   "source": [
    "questions = soep.read_csv(join(path1, 'questionnaires/soep-core-2021-lee2estab/questions.csv'))\n",
    "\n",
    "groups = questions.groupby(['study', 'questionnaire', 'question']).size().reset_index()[['study', 'questionnaire', 'question']]\n",
    "print(type(groups))\n",
    "\n",
    "\n",
    "for g in groups.iterrows():\n",
    "    study = g[1]['study']\n",
    "    questionnaire = g[1]['questionnaire']\n",
    "    question_number = g[1]['question']\n",
    "\n",
    "    data = questions.loc[(\n",
    "    questions['study']==study) &\n",
    "    (questions['questionnaire']==questionnaire) & \n",
    "    (questions['question']==question_number)]\n",
    "\n",
    "    print(data.loc[data['answer_list']!=\"\", ['item', 'answer_list']])\n",
    "    print(\" \")\n",
    "    #for i in data.iterrows():\n",
    "        #print(i[1]['item'])\n",
    "    "
   ]
  },
  {
   "cell_type": "code",
   "execution_count": 2,
   "metadata": {},
   "outputs": [
    {
     "name": "stdout",
     "output_type": "stream",
     "text": [
      "0       B1\n",
      "1    Text1\n",
      "2        1\n",
      "3        1\n",
      "4       2a\n",
      "5       2a\n",
      "6       2b\n",
      "7       2b\n",
      "8       2c\n",
      "9       2c\n",
      "Name: question, dtype: object\n",
      "(323, 24)\n",
      "321\n",
      "<class 'numpy.ndarray'>\n",
      "[ 0  1  2  2  3  3  4  4  5  5  6  6  7  7  8  9  9  9 10 10 10 11 11 11\n",
      " 12 12 12 13 14 15 16 16 16 16 16 16 16 16 16 16 16 16 16 16 16 16 16 16\n",
      " 16 17 18 18 18 18 18 18 18 18 19 19 19 19 19 19 19 19 19 19 20 20 20 20\n",
      " 21 21 21 21 21 21 21 21 21 21 22 23 23 23 23 23 23 23 23 23 23 23 23 23\n",
      " 23 24 25 26 26 26 27 27 27 28 29 30 31 32 33 34 35 35 35 35 35 35 35 35\n",
      " 35 35 35 35 35 35 35 35 35 36 36 36 36 36 36 36 36 36 36 36 36 36 36 36\n",
      " 36 36 37 38 38 38 38 38 38 38 38 38 38 38 39 40 41 42 42 43 44 44 44 44\n",
      " 44 44 44 44 44 44 44 44 44 44 44 44 44 45 45 45 45 45 45 45 45 46 46 46\n",
      " 46 46 46 46 46 47 47 47 47 47 47 48 48 48 48 48 48 48 48 48 48 48 48 48\n",
      " 49 50 51 51 51 51 52 52 52 52 52 53 53 53 53 53 53 53 53 53 53 54 54 54\n",
      " 54 54 54 54 54 54 54 55 56 57 58 59 59 59 59 59 59 59 59 60 60 60 61 61\n",
      " 61 62 62 62 62 62 63 64 65 66 67 68 68 68 68 68 68 68 69 70 71 71 71 72\n",
      " 73 73 73 73 73 74 74 74 75 75 75 75 76 76 76 77 78 79 79 79 80 80 80 81\n",
      " 81 81 81 81 81 81 81 82 83]\n"
     ]
    }
   ],
   "source": [
    "import soepdoku as soep\n",
    "from os.path import join\n",
    "import pandas as pd\n",
    "path1 = \"C:/Users/chh/Work/02_git/Dokumentation/\" \n",
    "df = soep.read_csv(join(path1, 'questionnaires/soep-core-2022-selfempl/questions.csv'))\n",
    "\n",
    "print(df['question'].head(10))\n",
    "print(df.shape)\n",
    "\n",
    "mask2 = df['question']!='1'\n",
    "ids =  pd.factorize(\n",
    "    df.loc[\n",
    "        mask2, ['study', 'questionnaire', 'question']\n",
    "        ].apply(tuple, axis=1))[0]\n",
    "\n",
    "print(len(ids))\n",
    "print(type(ids))\n",
    "print(ids)"
   ]
  },
  {
   "cell_type": "code",
   "execution_count": 5,
   "metadata": {},
   "outputs": [
    {
     "name": "stdout",
     "output_type": "stream",
     "text": [
      "[3419, 3417, 3418]\n"
     ]
    }
   ],
   "source": [
    "df = database.questions_var\n",
    "\n",
    "select = df.loc[\n",
    "    (df['study']==\"soep-lee2-compare\") & \n",
    "    (df['questionnaire']==\"soep-lee2-compare-2022-estab\") &\n",
    "    (df['question']==\"43\") &\n",
    "    (df['item']==\"eab0007\")].index\n",
    "\n",
    "print(select.tolist())"
   ]
  },
  {
   "cell_type": "code",
   "execution_count": 11,
   "metadata": {},
   "outputs": [
    {
     "name": "stdout",
     "output_type": "stream",
     "text": [
      "Index(['study', 'dataset', 'variable', 'questionnaire', 'question', 'item'], dtype='object')\n",
      "                  study                             dataset variable                 questionnaire question     item\n",
      "1383  soep-lee2-compare  soep-lee2-compare-2022-estab-infas  eab0007  soep-lee2-compare-2022-estab       43  eab0007\n",
      "Index(['input_study', 'input_version', 'input_dataset', 'input_variable',\n",
      "       'output_variable', 'output_dataset', 'output_version', 'output_study'],\n",
      "      dtype='object')\n",
      "Empty DataFrame\n",
      "Columns: [input_study, input_version, input_dataset, input_variable, output_variable, output_dataset, output_version, output_study]\n",
      "Index: []\n"
     ]
    }
   ],
   "source": [
    "df = database.logical_variables\n",
    "\n",
    "print(df.columns)\n",
    "\n",
    "select = df.loc[\n",
    "    (df['study']==\"soep-lee2-compare\") & \n",
    "    (df['questionnaire']==\"soep-lee2-compare-2022-estab\") &\n",
    "    (df['question']==\"43\") &\n",
    "    (df['item']==\"eab0007\")]\n",
    "print(select.to_string())\n",
    "\n",
    "df2 = database.generations\n",
    "print(df2.columns)\n",
    "\n",
    "select = df2.loc[\n",
    "    (df2['input_study']==\"soep-lee2-compare\") & \n",
    "    (df2['input_dataset']==\"soep-lee2-compare-2022-estab-infas\")]\n",
    "print(select.to_string())"
   ]
  },
  {
   "cell_type": "code",
   "execution_count": 12,
   "metadata": {},
   "outputs": [],
   "source": [
    "data = database.generations"
   ]
  },
  {
   "cell_type": "code",
   "execution_count": 2,
   "metadata": {},
   "outputs": [],
   "source": [
    "doku_repos = [path1, path2]\n",
    "database = Database(paths = questionnaire_files, doku_repos=doku_repos, version=version)\n",
    "database.build()\n",
    "questions, quest_expl = database.merge_quest_log_gen()\n",
    "\n"
   ]
  },
  {
   "cell_type": "code",
   "execution_count": 43,
   "metadata": {},
   "outputs": [
    {
     "name": "stdout",
     "output_type": "stream",
     "text": [
      "          study            questionnaire question item  \\\n",
      "1014  soep-core  soep-core-2022-selfempl        1   -1   \n",
      "1016  soep-core  soep-core-2022-selfempl       2a   -1   \n",
      "1018  soep-core  soep-core-2022-selfempl       2b   -1   \n",
      "1020  soep-core  soep-core-2022-selfempl       2c   -1   \n",
      "1022  soep-core  soep-core-2022-selfempl       3a   -1   \n",
      "1024  soep-core  soep-core-2022-selfempl       3b   -1   \n",
      "1026  soep-core  soep-core-2022-selfempl       3c   -1   \n",
      "1030  soep-core  soep-core-2022-selfempl        5   -1   \n",
      "1033  soep-core  soep-core-2022-selfempl        6   -1   \n",
      "1036  soep-core  soep-core-2022-selfempl       6a   -1   \n",
      "1039  soep-core  soep-core-2022-selfempl       6b   -1   \n",
      "1061  soep-core  soep-core-2022-selfempl        8   -1   \n",
      "1070  soep-core  soep-core-2022-selfempl       10   -1   \n",
      "1080  soep-core  soep-core-2022-selfempl       11   -1   \n",
      "1084  soep-core  soep-core-2022-selfempl       12   -1   \n",
      "1094  soep-core  soep-core-2022-selfempl       13   -1   \n",
      "1109  soep-core  soep-core-2022-selfempl       15   -1   \n",
      "1114  soep-core  soep-core-2022-selfempl       16   -1   \n",
      "1117  soep-core  soep-core-2022-selfempl       17   -1   \n",
      "1158  soep-core  soep-core-2022-selfempl       24   -1   \n",
      "1228  soep-core  soep-core-2022-selfempl       34   -1   \n",
      "1234  soep-core  soep-core-2022-selfempl       35   -1   \n",
      "1239  soep-core  soep-core-2022-selfempl       36   -1   \n",
      "1271  soep-core  soep-core-2022-selfempl       41   -1   \n",
      "1274  soep-core  soep-core-2022-selfempl       42   -1   \n",
      "1277  soep-core  soep-core-2022-selfempl       43   -1   \n",
      "1282  soep-core  soep-core-2022-selfempl       44   -1   \n",
      "1308  soep-core  soep-core-2022-selfempl       56   -1   \n",
      "1312  soep-core  soep-core-2022-selfempl       57   -1   \n",
      "1315  soep-core  soep-core-2022-selfempl       58   -1   \n",
      "1341  soep-core  soep-core-2024-selfempl        1   -1   \n",
      "1343  soep-core  soep-core-2024-selfempl        2   -1   \n",
      "1345  soep-core  soep-core-2024-selfempl        3   -1   \n",
      "1347  soep-core  soep-core-2024-selfempl        4   -1   \n",
      "1349  soep-core  soep-core-2024-selfempl        5   -1   \n",
      "1351  soep-core  soep-core-2024-selfempl        6   -1   \n",
      "1353  soep-core  soep-core-2024-selfempl        7   -1   \n",
      "1357  soep-core  soep-core-2024-selfempl        9   -1   \n",
      "1360  soep-core  soep-core-2024-selfempl       10   -1   \n",
      "1363  soep-core  soep-core-2024-selfempl       11   -1   \n",
      "1366  soep-core  soep-core-2024-selfempl       12   -1   \n",
      "1386  soep-core  soep-core-2024-selfempl       14   -1   \n",
      "1395  soep-core  soep-core-2024-selfempl       16   -1   \n",
      "1405  soep-core  soep-core-2024-selfempl       17   -1   \n",
      "1416  soep-core  soep-core-2024-selfempl       19   -1   \n",
      "1421  soep-core  soep-core-2024-selfempl       20   -1   \n",
      "1424  soep-core  soep-core-2024-selfempl       21   -1   \n",
      "1465  soep-core  soep-core-2024-selfempl       28   -1   \n",
      "1535  soep-core  soep-core-2024-selfempl       38   -1   \n",
      "1540  soep-core  soep-core-2024-selfempl       39   -1   \n",
      "1563  soep-core  soep-core-2024-selfempl       42   -1   \n",
      "1590  soep-core  soep-core-2024-selfempl       53   -1   \n",
      "1594  soep-core  soep-core-2024-selfempl       54   -1   \n",
      "1666  soep-core  soep-core-2024-selfempl       68   -1   \n",
      "1670  soep-core  soep-core-2024-selfempl       69   -1   \n",
      "1673  soep-core  soep-core-2024-selfempl       70   -1   \n",
      "\n",
      "                                text_de instruction_de scale answer_list  \\\n",
      "1014  Kann/möchte ich nicht beantworten                  bin               \n",
      "1016  Kann/möchte ich nicht beantworten                  bin               \n",
      "1018  Kann/möchte ich nicht beantworten                  bin               \n",
      "1020  Kann/möchte ich nicht beantworten                  bin               \n",
      "1022  Kann/möchte ich nicht beantworten                  bin               \n",
      "1024  Kann/möchte ich nicht beantworten                  bin               \n",
      "1026  Kann/möchte ich nicht beantworten                  bin               \n",
      "1030  Kann/möchte ich nicht beantworten                  bin               \n",
      "1033  Kann/möchte ich nicht beantworten                  bin               \n",
      "1036  Kann/möchte ich nicht beantworten                  bin               \n",
      "1039  Kann/möchte ich nicht beantworten                  bin               \n",
      "1061  Kann/möchte ich nicht beantworten                  bin               \n",
      "1070  Kann/möchte ich nicht beantworten                  bin               \n",
      "1080  Kann/möchte ich nicht beantworten                  bin               \n",
      "1084  Kann/möchte ich nicht beantworten                  bin               \n",
      "1094  Kann/möchte ich nicht beantworten                  bin               \n",
      "1109  Kann/möchte ich nicht beantworten                  bin               \n",
      "1114  Kann/möchte ich nicht beantworten                  bin               \n",
      "1117  Kann/möchte ich nicht beantworten                  bin               \n",
      "1158  Kann/möchte ich nicht beantworten                  bin               \n",
      "1228  Kann/möchte ich nicht beantworten                  bin               \n",
      "1234  Kann/möchte ich nicht beantworten                  bin               \n",
      "1239  Kann/möchte ich nicht beantworten                  bin               \n",
      "1271  Kann/möchte ich nicht beantworten                  bin               \n",
      "1274  Kann/möchte ich nicht beantworten                  bin               \n",
      "1277  Kann/möchte ich nicht beantworten                  bin               \n",
      "1282  Kann/möchte ich nicht beantworten                  bin               \n",
      "1308  Kann/möchte ich nicht beantworten                  bin               \n",
      "1312  Kann/möchte ich nicht beantworten                  bin               \n",
      "1315  Kann/möchte ich nicht beantworten                  bin               \n",
      "1341  Kann/möchte ich nicht beantworten                  bin               \n",
      "1343  Kann/möchte ich nicht beantworten                  bin               \n",
      "1345  Kann/möchte ich nicht beantworten                  bin               \n",
      "1347  Kann/möchte ich nicht beantworten                  bin               \n",
      "1349  Kann/möchte ich nicht beantworten                  bin               \n",
      "1351  Kann/möchte ich nicht beantworten                  bin               \n",
      "1353  Kann/möchte ich nicht beantworten                  bin               \n",
      "1357  Kann/möchte ich nicht beantworten                  bin               \n",
      "1360  Kann/möchte ich nicht beantworten                  bin               \n",
      "1363  Kann/möchte ich nicht beantworten                  bin               \n",
      "1366  Kann/möchte ich nicht beantworten                  bin               \n",
      "1386  Kann/möchte ich nicht beantworten                  bin               \n",
      "1395  Kann/möchte ich nicht beantworten                  bin               \n",
      "1405  Kann/möchte ich nicht beantworten                  bin               \n",
      "1416  Kann/möchte ich nicht beantworten                  bin               \n",
      "1421  Kann/möchte ich nicht beantworten                  bin               \n",
      "1424  Kann/möchte ich nicht beantworten                  bin               \n",
      "1465  Kann/möchte ich nicht beantworten                  bin               \n",
      "1535  Kann/möchte ich nicht beantworten                  bin               \n",
      "1540  Kann/möchte ich nicht beantworten                  bin               \n",
      "1563  Kann/möchte ich nicht beantworten                  bin               \n",
      "1590  Kann/möchte ich nicht beantworten                  bin               \n",
      "1594  Kann/möchte ich nicht beantworten                  bin               \n",
      "1666  Kann/möchte ich nicht beantworten                  bin               \n",
      "1670  Kann/möchte ich nicht beantworten                  bin               \n",
      "1673  Kann/möchte ich nicht beantworten                  bin               \n",
      "\n",
      "                                                context  initial_index  \n",
      "1014                                                              1014  \n",
      "1016                                                              1016  \n",
      "1018                                                              1018  \n",
      "1020                                                              1020  \n",
      "1022                                                              1022  \n",
      "1024                                                              1024  \n",
      "1026                                                              1026  \n",
      "1030  Zu wie viel Prozent ist der/die Mehrheitseigen...           1030  \n",
      "1033  In welchem Jahr wurde Ihr Unternehmen gegründe...           1033  \n",
      "1036  Wann haben Sie das Unternehmen übernommen? Wen...           1036  \n",
      "1039  Wann sind Sie in das Unternehmen eingestiegen?...           1039  \n",
      "1061  Wie viele Beschäftigte hatte Ihr Unternehmen a...           1061  \n",
      "1070  Von den Teilzeitbeschäftigten, wie viele waren...           1070  \n",
      "1080  Wie verteilten sich die Beschäftigten Ihres Un...           1080  \n",
      "1084  Wie hoch war insgesamt am 30.06.2021 der Antei...           1084  \n",
      "1094  Wie hoch war am 30.06.2021 in den folgenden Gr...           1094  \n",
      "1109  Wie viele sonstige Beschäftigte hatte Ihr Unte...           1109  \n",
      "1114  Wie hoch waren 2021 die bilanzwirksamen Invest...           1114  \n",
      "1117  Wie hoch waren ungefähr die Marketingausgaben ...           1117  \n",
      "1158  Von allen Tätigkeiten, denen Sie täglich nachg...           1158  \n",
      "1228  Wie sind Sie selbst für das Alter nach aktuell...           1228  \n",
      "1234  Bitte geben Sie die Gesamtanzahl der Beschäfti...           1234  \n",
      "1239  Bitte geben Sie den ungefähren Anteil pro Besc...           1239  \n",
      "1271  Welche der folgenden personalpolitischen Maßna...           1271  \n",
      "1274  Wie hoch war die Anzahl der Beschäftigten insg...           1274  \n",
      "1277  Wie hoch war der Anteil der Frauen, der am 30....           1277  \n",
      "1282  Wie hoch war der Anteil pro Beschäftigtengrupp...           1282  \n",
      "1308  Wie hoch war der steuerlich ausgewiesene Gewin...           1308  \n",
      "1312  Wie hoch war der gesamte Materialaufwand und s...           1312  \n",
      "1315  Wie hoch war der prozentuale Anteil der Person...           1315  \n",
      "1341                                                              1341  \n",
      "1343                                                              1343  \n",
      "1345                                                              1345  \n",
      "1347                                                              1347  \n",
      "1349                                                              1349  \n",
      "1351                                                              1351  \n",
      "1353                                                              1353  \n",
      "1357  Zu wie viel Prozent ist der/die Mehrheitseigen...           1357  \n",
      "1360  In welchem Jahr wurde Ihr Unternehmen gegründe...           1360  \n",
      "1363  Wann haben Sie das Unternehmen übernommen? Wen...           1363  \n",
      "1366  Wann sind Sie in das Unternehmen eingestiegen?...           1366  \n",
      "1386  Wie viele Beschäftigte hatte Ihr Unternehmen z...           1386  \n",
      "1395  Von den Teilzeitbeschäftigten, wie viele waren...           1395  \n",
      "1405  Wie verteilten sich die Beschäftigten Ihres Un...           1405  \n",
      "1416  Wie viele sonstige Beschäftigte hatte Ihr Unte...           1416  \n",
      "1421  Wie hoch waren 2023 die bilanzwirksamen Invest...           1421  \n",
      "1424  Wie hoch waren ungefähr die Marketingausgaben ...           1424  \n",
      "1465  Von allen Tätigkeiten, denen Sie täglich nachg...           1465  \n",
      "1535  Wie sind Sie selbst für das Alter nach aktuell...           1535  \n",
      "1540  Bitte geben Sie die Gesamtanzahl der Beschäfti...           1540  \n",
      "1563  Wie hoch war die Anzahl der Beschäftigten insg...           1563  \n",
      "1590  Für wie viel Prozent der Umsätze Ihres Unterne...           1590  \n",
      "1594  Für wie viel Prozent der Investitionen Ihres U...           1594  \n",
      "1666  Wie hoch war der steuerlich ausgewiesene Gewin...           1666  \n",
      "1670  Wie hoch war der gesamte Materialaufwand und s...           1670  \n",
      "1673  Wie hoch war der prozentuale Anteil der Person...           1673  \n"
     ]
    }
   ],
   "source": [
    "print(database.questions.loc[database.questions['item']=='-1'])"
   ]
  },
  {
   "cell_type": "code",
   "execution_count": 4,
   "metadata": {},
   "outputs": [
    {
     "name": "stdout",
     "output_type": "stream",
     "text": [
      "Q:/soep-lee2-compare/datasets\\estab2022\\v39\\generations.csv\n"
     ]
    }
   ],
   "source": [
    "# DataBase.py\n",
    "\n",
    "\n",
    "paths = get_paths(\"Q:/soep-lee2-compare/\", col_value={'questionnaire': 'soep-lee2-compare-2022-estab'})\n",
    "#paths = get_paths(\"Q:/Dokumentation/\", col_value={'questionnaire': 'soep-core-2021-lee2estab'})\n",
    "paths = get_paths(\"Q:/soep-lee2-compare/\", filename='generations.csv', include_version_dir=['v39'])\n",
    "\n",
    "for p in paths:\n",
    "    print(p)"
   ]
  },
  {
   "cell_type": "code",
   "execution_count": 62,
   "metadata": {},
   "outputs": [
    {
     "name": "stdout",
     "output_type": "stream",
     "text": [
      "Q:/Dokumentation/datasets/pl/ ['v34', 'v35', 'v36', 'v37', 'v38', 'v39', 'v39.1', 'v40'] ['codebook_alt.csv']\n"
     ]
    }
   ],
   "source": [
    "for root, dirs, files in os.walk('Q:/Dokumentation/datasets/pl/', topdown=True):\n",
    "    \n",
    "    basename = os.path.basename(root)\n",
    "\n",
    "    if (not is_version_dir(basename)):\n",
    "        print(root, dirs, files)\n",
    "    \n",
    "    "
   ]
  },
  {
   "cell_type": "code",
   "execution_count": 6,
   "metadata": {},
   "outputs": [
    {
     "name": "stdout",
     "output_type": "stream",
     "text": [
      "C:\\Users\\chh\\Work\\02_git\\Dokumentation\\questionnaires\\soep-core-2021-lee2estab\\answers.csv\n",
      "Index(['study', 'questionnaire', 'answer_list', 'value', 'label_de', 'label',\n",
      "       'infasid'],\n",
      "      dtype='object')\n"
     ]
    }
   ],
   "source": [
    "path1 = \"C:/Users/chh/Work/02_git/Dokumentation/\"  # path to SOEP-Core documentation\n",
    "path2 = \"C:/Users/chh/Work/02_git/soep-lee2-compare/\" # path to SOEP-LEE2-Compare documentation\n",
    "version = 'v39'\n",
    "\n",
    "file = join(path1, 'questionnaires/soep-core-2021-lee2estab/questions.csv')\n",
    "#quest = soep.read_csv(join(path1, 'questionnaires/soep-core-2021-lee2estab/questions.csv'))\n",
    "#answers = soep.read_csv(join(path1, 'questionnaires/soep-core-2021-lee2estab/answers.csv'))\n",
    "from pathlib import Path\n",
    "from os.path import join\n",
    "answers_file = join(Path(file).parents[0], 'answers.csv')\n",
    "print(answers_file)\n",
    "\n",
    "answers = soep.read_csv(answers_file)\n",
    "\n",
    "print(answers.columns)\n"
   ]
  },
  {
   "cell_type": "code",
   "execution_count": 45,
   "metadata": {},
   "outputs": [
    {
     "name": "stdout",
     "output_type": "stream",
     "text": [
      "[1] … ein unabhängiges, eigenständiges Unternehmen oder eine eigenständige Organisation ohne Niederlassung an anderer Stelle?, [2] … die Zentrale oder Hauptverwaltung eines Unternehmens oder einer Organisation mit Niederlassungen (Betrieben / Dienststellen) anderswo?, [3] … eine Niederlassung (Betrieb / Dienststelle) eines größeren Unternehmens oder einer größeren Organisation?, [4] … eine regionale oder fachliche Niederlassung / Mittelinstanz eines verzweigten Unternehmens oder einer verzweigten Organisation?, [-1] Kann / möchte ich nicht beantworten, [1] Keine Herausforderung, [2] Geringe Herausforderung, [3] Mittlere Herausforderung, [4] Große Herausforderung, [5] Sehr große Herausforderung\n"
     ]
    }
   ],
   "source": [
    "def add_cols(series):\n",
    "    return '['+ series['value'] + '] ' + series['label_de']\n",
    "\n",
    "\n",
    "test = answers[['value', 'label_de']].apply(lambda row: add_cols(row), axis=1)\n",
    "\n",
    "print(', '.join(test.values))"
   ]
  },
  {
   "cell_type": "code",
   "execution_count": 3,
   "metadata": {},
   "outputs": [
    {
     "name": "stdout",
     "output_type": "stream",
     "text": [
      "['This is ', 'a test', 'So good']\n"
     ]
    }
   ],
   "source": [
    "str1 = \"This is \\na test\\nSo good\"\n",
    "print(str1.split('\\n'))"
   ]
  },
  {
   "cell_type": "code",
   "execution_count": 15,
   "metadata": {},
   "outputs": [],
   "source": [
    "\n",
    "file = files[0]\n",
    "\n",
    "def window1():\n",
    "    layout = [\n",
    "        [sg.Text(\"Select a file\"), sg.Combo(files, key='-COMBO-', enable_events=True)],\n",
    "        [sg.Text(f\"Selected file:\"), sg.Text(\"\", key='-FILE-')],\n",
    "        [sg.Button(\"Read dataset\")],\n",
    "        [sg.Text(\"Result:\"), sg.Text(\"\", key='-RESULT-', size=(15, 1))],\n",
    "        [sg.Button(\"Go to Window 2\"), sg.Button(\"Exit\")]\n",
    "    ]\n",
    "\n",
    "    return sg.Window(\"Window 1\", layout)\n",
    "\n",
    "\n",
    "def select_file(window):\n",
    "    file = values['-COMBO-']\n",
    "    window.update(file)\n",
    "    return file\n",
    "\n",
    "def read_data(window):\n",
    "    try:\n",
    "        data = soep.read_csv(file)\n",
    "        col = data.columns[3]\n",
    "        value = data.at[0, col]\n",
    "        window.update(value)\n",
    "    except:\n",
    "        pass\n",
    "\n",
    "\n",
    "window = window1()\n",
    "\n",
    "while True:\n",
    "    event, values = window.read()\n",
    "\n",
    "    if event in (sg.WINDOW_CLOSED, \"Exit\"):\n",
    "        break\n",
    "\n",
    "    elif event == \"-COMBO-\":\n",
    "        file = select_file(window['-FILE-'])\n",
    "        read_data(window['-RESULT-'])\n",
    "\n",
    "    elif event == \"Read dataset\":\n",
    "        read_data(window['-RESULT-'])\n",
    "       \n",
    "\n",
    "\n",
    "window.close()"
   ]
  },
  {
   "cell_type": "code",
   "execution_count": null,
   "metadata": {},
   "outputs": [],
   "source": [
    "def window2():\n",
    "    layout = [\n",
    "        [sg.Text(\"Welcome to window 2\")],\n",
    "        [sg.Button(\"Go to Window 1\"), sg.Button(\"Exit\")]\n",
    "    ]\n",
    "\n",
    "    return sg.Window(\"Window 1\", layout)\n",
    "\n",
    "    elif event == \"Calculate Square\":\n",
    "        try:\n",
    "            number = float(values['-INPUT-'])\n",
    "            result = number ** 2\n",
    "            window['-RESULT-'].update(result)\n",
    "\n",
    "        except ValueError:\n",
    "            pass\n"
   ]
  },
  {
   "cell_type": "code",
   "execution_count": null,
   "metadata": {},
   "outputs": [],
   "source": [
    "class Algorithms():\n",
    "\n",
    "    def __init__(self, questionnaire, paths, doku_repos, questionnaire_path=None):\n",
    "\n",
    "        self.questionnaire = questionnaire\n",
    "        self.questionnaire_path = self.get_questionnaire_path(questionnaire_path)\n",
    "        self.paths = paths # paths to all relevant questionnaires\n",
    "        self.doku_repos = doku_repos # paths to Documentation top level, ex.: ['C:/Dokumentation', 'C:/Dokumentation_2']\n",
    "\n",
    "    def get_questionnaire_path(self, path):\n",
    "        \n",
    "        if path is None:\n",
    "            try:\n",
    "                return self.questionnaire.path\n",
    "            except:\n",
    "                return None\n",
    "        else:\n",
    "            return path"
   ]
  }
 ],
 "metadata": {
  "kernelspec": {
   "display_name": "python11",
   "language": "python",
   "name": "python3"
  },
  "language_info": {
   "codemirror_mode": {
    "name": "ipython",
    "version": 3
   },
   "file_extension": ".py",
   "mimetype": "text/x-python",
   "name": "python",
   "nbconvert_exporter": "python",
   "pygments_lexer": "ipython3",
   "version": "3.11.11"
  }
 },
 "nbformat": 4,
 "nbformat_minor": 2
}
